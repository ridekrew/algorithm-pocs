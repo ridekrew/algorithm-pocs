{
 "cells": [
  {
   "cell_type": "markdown",
   "metadata": {
    "deletable": true,
    "editable": true
   },
   "source": [
    "# Krew Interval Scheduling Algorithm\n",
    "This is an online ridesharing algorithm, designed to link riders with appropriate drivers based on many different factors such as proximity, seats available and route."
   ]
  },
  {
   "cell_type": "markdown",
   "metadata": {},
   "source": [
    "## Section 1: Imports and Dependencies"
   ]
  },
  {
   "cell_type": "code",
   "execution_count": 51,
   "metadata": {
    "collapsed": true,
    "deletable": true,
    "editable": true
   },
   "outputs": [],
   "source": [
    "import datetime as dt\n",
    "import sys\n",
    "from ipywidgets import widgets\n",
    "from IPython.display import display"
   ]
  },
  {
   "cell_type": "markdown",
   "metadata": {},
   "source": [
    "## Section 2: Object Creation\n",
    "\n",
    "We need multiple data structures for this algorithm: \n",
    "1. RideManager\n",
    "    - Responsible for distributing rides optimally amongst all drivers\n",
    "2. Driver\n",
    "    - Holds unaccepted ride requests and scheduled rides\n",
    "    - Able to accept rides\n",
    "    - Has an upper limit on number of seats available\n",
    "3. RideRequest\n",
    "    - Has an origin, destination, startTime and endTime"
   ]
  },
  {
   "cell_type": "code",
   "execution_count": 115,
   "metadata": {
    "collapsed": false,
    "deletable": true,
    "editable": true
   },
   "outputs": [],
   "source": [
    "class RideManager:\n",
    "    \n",
    "    # RideManager holds a set of drivers to prevent duplicate drivers and provide fast look-ups.\n",
    "    def __init__(self):\n",
    "        self.drivers = set()\n",
    "        \n",
    "    # Takes an array of Drivers to be added to the RideManager\n",
    "    def addDrivers(self, drivers):\n",
    "        for driver in drivers:\n",
    "            self.drivers.add(driver)\n",
    "    \n",
    "    def assignRideRequest(self, rideRequest):\n",
    "        driverQueue = rideRequest.getDriverQueue()\n",
    "        bestDriver = None\n",
    "        bestDriverSeatsRemaining = sys.maxsize\n",
    "        bestRideId = None\n",
    "        \n",
    "        # Check for available rides that have already been accepted by drivers\n",
    "        for driver in driverQueue:\n",
    "            rides = driver.getAcceptedRides()\n",
    "            for rideId in rides.keys():\n",
    "                ride = rides.get(rideId)\n",
    "                startTimes = [ x.getStartTime() for x in ride ]\n",
    "                endTimes = [ x.getEndTime() for x in ride ]\n",
    "                riders = sum([ x.getNumRiders() for x in ride ])\n",
    "                latestStartTime = max(startTimes)\n",
    "                earliestEndTime = min(endTimes)\n",
    "                \n",
    "                if rideRequest.getStartTime() >= latestStartTime and rideRequest.getEndTime() <= earliestEndTime:\n",
    "                    availableSeats = driver.getSeats() - riders\n",
    "                    if availableSeats == rideRequest.getNumRiders():\n",
    "                        bestDriver = driver\n",
    "                        bestDriverSeatsRemaining = 0\n",
    "                        bestRideId = rideId\n",
    "                        break  \n",
    "                    elif availableSeats > rideRequest.getNumRiders():\n",
    "                        if availableSeats - rideRequest.getNumRiders() < bestDriverSeatsRemaining:\n",
    "                            bestDriver = driver\n",
    "                            bestDriverSeatsRemaining = availableSeats - rideRequest.getNumRiders()\n",
    "                            bestRideId = rideId\n",
    "            \n",
    "            if bestDriverSeatsRemaining == 0:\n",
    "                break\n",
    "                        \n",
    "        \n",
    "        # No existing rides were found, so assign it to the first driver in the queue.\n",
    "        if bestDriver == None:\n",
    "            bestDriver = rideRequest.getBestDriver()\n",
    "            bestDriver.addRideRequest(rideRequest)\n",
    "        else:\n",
    "            print(\"Found a driver: \" + str(bestDriver))\n",
    "            bestDriver.addToRide(bestRideId, rideRequest)\n",
    "        \n",
    "    def __str__(self):\n",
    "        for driver in self.drivers:\n",
    "            if driver.rideRequests or driver.acceptedRides:\n",
    "                print(driver.name + \":\")\n",
    "            if driver.rideRequests:\n",
    "                print(\"--- Open Ride Requests: \")\n",
    "                for ride in driver.rideRequests:\n",
    "                    print(\"------ Ride \" + str(ride))\n",
    "            if driver.acceptedRides:    \n",
    "                print(\"--- Accepted Rides: \")\n",
    "                for acceptedRide in driver.acceptedRides:\n",
    "                    print(\"------ Ride \" + str(acceptedRide))\n",
    "        return \"\""
   ]
  },
  {
   "cell_type": "code",
   "execution_count": 116,
   "metadata": {
    "collapsed": false,
    "deletable": true,
    "editable": true
   },
   "outputs": [],
   "source": [
    "class Driver:\n",
    "    def __init__(self, name, seats = 4):\n",
    "        self.name = name\n",
    "        self.seats = seats\n",
    "        self.acceptedRides = {}\n",
    "        self.rideRequests = {}\n",
    "        \n",
    "    def addRideRequest(self, ride):\n",
    "        self.rideRequests[ride.getId()] = ride\n",
    "    \n",
    "    def acceptRide(self, rideId):\n",
    "        self.acceptedRides[rideId] = [self.rideRequests[rideId]]\n",
    "        self.rideRequests.pop(rideId)\n",
    "        \n",
    "    def getAcceptedRides(self):\n",
    "        return self.acceptedRides\n",
    "    \n",
    "    def getSeats(self):\n",
    "        return self.seats\n",
    "    \n",
    "    def addToRide(self, acceptedRideId, rideRequest):\n",
    "        print(self.acceptedRides.get(acceptedRideId))\n",
    "        self.acceptedRides.get(acceptedRideId).extend([rideRequest])\n",
    "                    \n",
    "    def __str__(self):\n",
    "        return self.name"
   ]
  },
  {
   "cell_type": "code",
   "execution_count": 117,
   "metadata": {
    "collapsed": false,
    "deletable": true,
    "editable": true
   },
   "outputs": [],
   "source": [
    "class RideRequest:\n",
    "    def __init__(self, ride_id, origin, destination, startTime, endTime, numRiders = 1):\n",
    "        self.id = ride_id\n",
    "        self.origin = origin\n",
    "        self.destination = destination\n",
    "        self.startTime = startTime\n",
    "        self.endTime = endTime\n",
    "        self.numRiders = numRiders\n",
    "        self.driverQueue = []\n",
    "        \n",
    "    def getId(self):\n",
    "        return self.id\n",
    "        \n",
    "    def createDriverQueue(self, drivers):\n",
    "        self.driverQueue.extend(drivers)\n",
    "        \n",
    "    def getDriverQueue(self):\n",
    "        return self.driverQueue\n",
    "    \n",
    "    def getBestDriver(self):\n",
    "        return self.driverQueue[0]\n",
    "    \n",
    "    def getStartTime(self):\n",
    "        return self.startTime\n",
    "    \n",
    "    def getEndTime(self):\n",
    "        return self.endTime\n",
    "    \n",
    "    def getNumRiders(self):\n",
    "        return self.numRiders\n",
    "    \n",
    "    def __str__(self):\n",
    "        return self.origin + \" -> \" + self.destination + \" | \" + self.startTime + \" -> \" + self.endTime"
   ]
  },
  {
   "cell_type": "markdown",
   "metadata": {
    "deletable": true,
    "editable": true
   },
   "source": [
    "## Section 3: RideManager and Driver Setup\n",
    "Create drivers with names and number of seats. Add the drivers to the RideManager to be used for ride distribution."
   ]
  },
  {
   "cell_type": "code",
   "execution_count": 118,
   "metadata": {
    "collapsed": false,
    "deletable": true,
    "editable": true
   },
   "outputs": [],
   "source": [
    "rideManager = RideManager()\n",
    "driver1 = Driver('Driver 1', 2)\n",
    "driver2 = Driver('Driver 2')\n",
    "driver3 = Driver('Driver 3', 6)\n",
    "driver4 = Driver('Driver 4')\n",
    "driver5 = Driver('Driver 5', 3)\n",
    "rideManager.addDrivers([driver1, driver2, driver3, driver4, driver5])"
   ]
  },
  {
   "cell_type": "markdown",
   "metadata": {
    "deletable": true,
    "editable": true
   },
   "source": [
    "## Section 4: Create Ride Requests\n",
    "Create multiple ride requests with different intervals and assign hard-coded driver queues. This will interface with the driver queue algorithm created."
   ]
  },
  {
   "cell_type": "code",
   "execution_count": 119,
   "metadata": {
    "collapsed": false,
    "deletable": true,
    "editable": true
   },
   "outputs": [],
   "source": [
    "# Dallas -> Austin... 12 P.M. - 3 P.M. (2 Riders)\n",
    "ride1 = RideRequest(1, \"Dallas\", \"Austin\", dt.time(12), dt.time(15), 2)\n",
    "ride1.createDriverQueue([driver1, driver3])\n",
    "\n",
    "# Dallas -> Austin... 11 A.M. - 2:30 P.M.(3 Riders)\n",
    "ride2 = RideRequest(2, \"Dallas\", \"Austin\", dt.time(11), dt.time(14, 30), 3)\n",
    "ride2.createDriverQueue([driver2, driver3, driver5])\n",
    "\n",
    "# Dallas -> Austin... 11:30 A.M. - 12:30 P.M. (1 Rider)\n",
    "ride3 = RideRequest(3, \"Dallas\", \"Austin\", dt.time(11, 30), dt.time(12, 30))\n",
    "ride3.createDriverQueue([driver4, driver1, driver3, driver5])"
   ]
  },
  {
   "cell_type": "markdown",
   "metadata": {},
   "source": [
    "## Section 5: Run the algorithm\n",
    "Create ride requests and allow the RideManager to allocate the rides appropriately."
   ]
  },
  {
   "cell_type": "code",
   "execution_count": 120,
   "metadata": {
    "collapsed": false,
    "deletable": true,
    "editable": true
   },
   "outputs": [
    {
     "name": "stdout",
     "output_type": "stream",
     "text": [
      "Booking Ride 1\n",
      "------------------------------------------------\n",
      "Driver 1:\n",
      "--- Open Ride Requests: \n",
      "------ Ride 1\n",
      "\n",
      "Driver 1 Accepts Ride 1\n",
      "------------------------------------------------\n",
      "Driver 1:\n",
      "--- Accepted Rides: \n",
      "------ Ride 1\n",
      "\n",
      "Booking Ride 2\n",
      "------------------------------------------------\n",
      "Driver 2:\n",
      "--- Open Ride Requests: \n",
      "------ Ride 2\n",
      "Driver 1:\n",
      "--- Accepted Rides: \n",
      "------ Ride 1\n",
      "\n",
      "Booking Ride 3\n",
      "------------------------------------------------\n",
      "Driver 2:\n",
      "--- Open Ride Requests: \n",
      "------ Ride 2\n",
      "Driver 1:\n",
      "--- Accepted Rides: \n",
      "------ Ride 1\n",
      "Driver 4:\n",
      "--- Open Ride Requests: \n",
      "------ Ride 3\n",
      "\n"
     ]
    }
   ],
   "source": [
    "print(\"Booking Ride 1\")\n",
    "print(\"------------------------------------------------\")\n",
    "rideManager.assignRideRequest(ride1)\n",
    "print(rideManager)\n",
    "\n",
    "print(\"Driver 1 Accepts Ride 1\")\n",
    "print(\"------------------------------------------------\")\n",
    "driver1.acceptRide(ride1.getId())\n",
    "print(rideManager)\n",
    "\n",
    "print(\"Booking Ride 2\")\n",
    "print(\"------------------------------------------------\")\n",
    "rideManager.assignRideRequest(ride2)\n",
    "print(rideManager)\n",
    "\n",
    "print(\"Booking Ride 3\")\n",
    "print(\"------------------------------------------------\")\n",
    "rideManager.assignRideRequest(ride3)\n",
    "print(rideManager)\n"
   ]
  },
  {
   "cell_type": "code",
   "execution_count": null,
   "metadata": {
    "collapsed": true
   },
   "outputs": [],
   "source": []
  }
 ],
 "metadata": {
  "kernelspec": {
   "display_name": "Python 3",
   "language": "python",
   "name": "python3"
  },
  "language_info": {
   "codemirror_mode": {
    "name": "ipython",
    "version": 3
   },
   "file_extension": ".py",
   "mimetype": "text/x-python",
   "name": "python",
   "nbconvert_exporter": "python",
   "pygments_lexer": "ipython3",
   "version": "3.6.0"
  }
 },
 "nbformat": 4,
 "nbformat_minor": 2
}
